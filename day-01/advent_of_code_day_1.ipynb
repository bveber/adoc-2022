{
 "cells": [
  {
   "cell_type": "code",
   "execution_count": 14,
   "id": "e083dcc4",
   "metadata": {},
   "outputs": [
    {
     "name": "stdout",
     "output_type": "stream",
     "text": [
      "71924\n"
     ]
    }
   ],
   "source": [
    "with open('calories.txt', 'r') as calories_file:\n",
    "    calories_text = calories_file.read().strip()\n",
    "elf_level_calories = calories_text.split('\\n\\n')\n",
    "elf_calories_total = []\n",
    "for elf_calories in elf_level_calories:\n",
    "    elf_calories_total.append(sum([int(cal) for cal in elf_calories.split('\\n')]))\n",
    "    \n",
    "print(max(elf_calories_total))"
   ]
  },
  {
   "cell_type": "code",
   "execution_count": 19,
   "id": "94ccb233",
   "metadata": {},
   "outputs": [
    {
     "data": {
      "text/plain": [
       "210406"
      ]
     },
     "execution_count": 19,
     "metadata": {},
     "output_type": "execute_result"
    }
   ],
   "source": [
    "elf_calories_total_sorted = sorted(elf_calories_total, reverse=True)\n",
    "sum(elf_calories_total_sorted[:3])"
   ]
  },
  {
   "cell_type": "code",
   "execution_count": null,
   "id": "8f0b7424",
   "metadata": {},
   "outputs": [],
   "source": []
  }
 ],
 "metadata": {
  "kernelspec": {
   "display_name": "Python 3 (ipykernel)",
   "language": "python",
   "name": "python3"
  },
  "language_info": {
   "codemirror_mode": {
    "name": "ipython",
    "version": 3
   },
   "file_extension": ".py",
   "mimetype": "text/x-python",
   "name": "python",
   "nbconvert_exporter": "python",
   "pygments_lexer": "ipython3",
   "version": "3.9.7"
  }
 },
 "nbformat": 4,
 "nbformat_minor": 5
}
