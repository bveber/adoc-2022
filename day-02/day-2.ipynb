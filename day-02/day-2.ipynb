{
 "cells": [
  {
   "cell_type": "code",
   "execution_count": 1,
   "id": "cb08f55f",
   "metadata": {},
   "outputs": [],
   "source": [
    "with open('input.txt', 'r') as f:\n",
    "    input_text = f.read().strip()"
   ]
  },
  {
   "cell_type": "code",
   "execution_count": 3,
   "id": "41f4e64b",
   "metadata": {},
   "outputs": [],
   "source": [
    "rounds = [rnd.split() for rnd in input_text.split('\\n')]"
   ]
  },
  {
   "cell_type": "code",
   "execution_count": 6,
   "id": "ba59910a",
   "metadata": {},
   "outputs": [],
   "source": [
    "SCORE_MAP = {\n",
    "    'A': 1,\n",
    "    'B': 2,\n",
    "    'C': 3\n",
    "}\n",
    "OUTCOME_MAP = {\n",
    "    'AA': 3,\n",
    "    'AB': 6,\n",
    "    'AC': 0,\n",
    "    'BA': 0,\n",
    "    'BB': 3,\n",
    "    'BC': 6,\n",
    "    'CA': 6,\n",
    "    'CB': 0,\n",
    "    'CC': 3\n",
    "}\n",
    "def calculate_round_score(rnd):\n",
    "    opponent = rnd[0]\n",
    "    user = code_map[rnd[1]]\n",
    "    return OUTCOME_MAP[opponent+user] + SCORE_MAP[user]\n",
    "    "
   ]
  },
  {
   "cell_type": "code",
   "execution_count": 13,
   "id": "8c0e9d84",
   "metadata": {},
   "outputs": [
    {
     "data": {
      "text/plain": [
       "1"
      ]
     },
     "execution_count": 13,
     "metadata": {},
     "output_type": "execute_result"
    }
   ],
   "source": [
    "code_map = {\n",
    "    'X': 'A',\n",
    "    'Y': 'B',\n",
    "    'Z': 'C'\n",
    "}\n",
    "calculate_round_score(['B', 'X'], code_map)"
   ]
  },
  {
   "cell_type": "code",
   "execution_count": 14,
   "id": "b78f2139",
   "metadata": {},
   "outputs": [
    {
     "data": {
      "text/plain": [
       "13565"
      ]
     },
     "execution_count": 14,
     "metadata": {},
     "output_type": "execute_result"
    }
   ],
   "source": [
    "sum([calculate_round_score(rnd, code_map) for rnd in rounds])"
   ]
  },
  {
   "cell_type": "code",
   "execution_count": 18,
   "id": "4d6b3018",
   "metadata": {},
   "outputs": [],
   "source": [
    "OUTCOME_MAP_PT2 = {\n",
    "    'X': 0,\n",
    "    'Y': 3,\n",
    "    'Z': 6,\n",
    "}\n",
    "SHAPE_MAP_PT2 = {\n",
    "    'AX': 'C',\n",
    "    'BX': 'A',\n",
    "    'CX': 'B',\n",
    "    'AY': 'A',\n",
    "    'BY': 'B',\n",
    "    'CY': 'C',\n",
    "    'AZ': 'B',\n",
    "    'BZ': 'C',\n",
    "    'CZ': 'A'\n",
    "}\n",
    "    \n",
    "def calculate_round_score_pt2(rnd):\n",
    "    opponent = rnd[0]\n",
    "    user = SHAPE_MAP_PT2[''.join(rnd)]\n",
    "    return OUTCOME_MAP_PT2[rnd[1]] + SCORE_MAP[user]"
   ]
  },
  {
   "cell_type": "code",
   "execution_count": 19,
   "id": "f2d5a6b5",
   "metadata": {},
   "outputs": [
    {
     "data": {
      "text/plain": [
       "12424"
      ]
     },
     "execution_count": 19,
     "metadata": {},
     "output_type": "execute_result"
    }
   ],
   "source": [
    "sum([calculate_round_score_pt2(rnd) for rnd in rounds])"
   ]
  },
  {
   "cell_type": "code",
   "execution_count": null,
   "id": "20935eda",
   "metadata": {},
   "outputs": [],
   "source": []
  }
 ],
 "metadata": {
  "kernelspec": {
   "display_name": "Python 3 (ipykernel)",
   "language": "python",
   "name": "python3"
  },
  "language_info": {
   "codemirror_mode": {
    "name": "ipython",
    "version": 3
   },
   "file_extension": ".py",
   "mimetype": "text/x-python",
   "name": "python",
   "nbconvert_exporter": "python",
   "pygments_lexer": "ipython3",
   "version": "3.9.7"
  }
 },
 "nbformat": 4,
 "nbformat_minor": 5
}
